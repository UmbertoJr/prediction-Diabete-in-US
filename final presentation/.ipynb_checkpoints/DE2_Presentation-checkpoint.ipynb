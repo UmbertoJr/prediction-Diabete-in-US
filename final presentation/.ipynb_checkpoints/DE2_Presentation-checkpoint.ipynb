{
 "cells": [
  {
   "cell_type": "code",
   "execution_count": 1,
   "metadata": {},
   "outputs": [],
   "source": [
    "import csv\n",
    "import requests\n",
    "import pandas as pd\n",
    "from pytrends.request import TrendReq\n",
    "import numpy as np\n",
    "import DE_HW2_library as lib"
   ]
  },
  {
   "cell_type": "markdown",
   "metadata": {},
   "source": [
    "# Data download"
   ]
  },
  {
   "cell_type": "markdown",
   "metadata": {},
   "source": [
    "In this part we are going to download and clear all the data that we will use in order to carry out the homework assignment.\n",
    "\n",
    "After the download of all the data we will have 4 main datasets: \n",
    "\n",
    "**age_adj** : contains the value in percentage of the 'Yes' response at the question 'Have you ever been told by a doctor that you have diabetes?', for every state in the US, for every year that has been selected. Data are downloaded from BRFSS site, and Age Adjusted Prevalence was selected. This dataset is part of the Ground Truth with *crude*\n",
    "\n",
    "**crude** : contains the value in percentage of the 'Yes' response at the question 'Have you ever been told by a doctor that you have diabetes?', for every state in the US, for every year that has been selected. Data are downloaded from BRFSS site, and Crude Prevalence was selected. This dataset is part of the Ground Truth with *age_adj*\n",
    "\n",
    "**google** : dataframe with all the keywords that have been searched in Google trend as column and the major 51 states of US as index. If multiple years are selected the same 51 states will appear as index following the previous ones, year after year (e.g. every 51 rows there's a new year). Original data are from Google trend, downloaded with *pytrends*\n",
    "\n",
    "**US_census** : contains data from US Census Bureau about US poverty for the 51 US states, for three different time intervals:\n",
    "- 2014 - 2016\n",
    "- 2013 - 2014\n",
    "- 2015 - 2016\n",
    "\n",
    "Data are downloaded from US Census Bureau"
   ]
  },
  {
   "cell_type": "code",
   "execution_count": 2,
   "metadata": {},
   "outputs": [],
   "source": [
    "crude, age_adjusted = lib.get_Ground_Truth(2005, 2016)"
   ]
  },
  {
   "cell_type": "code",
   "execution_count": 3,
   "metadata": {},
   "outputs": [],
   "source": [
    "crude = lib.clear_crude(crude)\n",
    "age_adj = lib.clear_age_adjusted(age_adjusted)"
   ]
  },
  {
   "cell_type": "code",
   "execution_count": 3,
   "metadata": {},
   "outputs": [
    {
     "data": {
      "text/plain": [
       "<module 'DE_HW2_library' from 'C:\\\\Users\\\\Umbertojunior\\\\Desktop\\\\data science\\\\third Semestr\\\\digital epidemiology\\\\hw2\\\\final presentation\\\\DE_HW2_library.py'>"
      ]
     },
     "execution_count": 3,
     "metadata": {},
     "output_type": "execute_result"
    }
   ],
   "source": [
    "import importlib as i\n",
    "i.reload(lib)"
   ]
  },
  {
   "cell_type": "code",
   "execution_count": 4,
   "metadata": {},
   "outputs": [],
   "source": [
    "diabetes = lib.google_trend('diabetes')\n",
    "hypertension = lib.google_trend('hypertension')\n",
    "type_2_diabetes = lib.google_trend('type 2 diabetes')\n",
    "type_1_diabetes = lib.google_trend('type 1 diabetes')\n",
    "hyperglycemia = lib.google_trend('hyperglycemia')\n",
    "cholesterol = lib.google_trend('cholesterol')\n",
    "obese = lib.google_trend('obese')\n",
    "insulin = lib.google_trend('insulin')\n",
    "triglycerides = lib.google_trend('triglycerides')\n",
    "pee = lib.google_trend('pee')\n",
    "gluten_free = lib.google_trend('gluten')"
   ]
  },
  {
   "cell_type": "code",
   "execution_count": 5,
   "metadata": {},
   "outputs": [],
   "source": [
    "keywords = ['diabetes', 'hypertension', 'type 2 diabetes', 'type 1 diabetes', 'hyperglycemia', 'cholesterol', 'obese', 'insulin', 'triglycerides', 'pee', 'gluten']\n",
    "google_data = [diabetes, hypertension, type_2_diabetes, type_1_diabetes, hyperglycemia, cholesterol, obese, insulin, triglycerides, pee, gluten_free]"
   ]
  },
  {
   "cell_type": "code",
   "execution_count": 6,
   "metadata": {},
   "outputs": [],
   "source": [
    "google = lib.build_google_trend_dataframe(google_data, keywords, 2005, 2016)"
   ]
  },
  {
   "cell_type": "code",
   "execution_count": 12,
   "metadata": {
    "collapsed": true
   },
   "outputs": [],
   "source": [
    "US_census = lib.download_US_Census_Bureau(google_data[0])"
   ]
  },
  {
   "cell_type": "markdown",
   "metadata": {},
   "source": [
    "# 1.1\n",
    "### Study the correlation between the ground truth data and the Google Trends data. Explore multiple features of the ground truth data (e.g., crude prevalence, age-adjusted prevalence, etc.), and multiple keywords or entity types for querying the Google Trends data. Check for stability (or lack there of) across different years."
   ]
  },
  {
   "cell_type": "markdown",
   "metadata": {},
   "source": [
    "The correlation is computed year by year for both Ground Truth data (crude and age_adj) with all the keywords searched in Google trend."
   ]
  },
  {
   "cell_type": "code",
   "execution_count": 7,
   "metadata": {
    "collapsed": true
   },
   "outputs": [],
   "source": [
    "crude_corr = lib.get_google_trend_correlation(google, crude, keywords)"
   ]
  },
  {
   "cell_type": "code",
   "execution_count": 8,
   "metadata": {
    "collapsed": true
   },
   "outputs": [],
   "source": [
    "age_adj_corr = lib.get_google_trend_correlation(google, crude, keywords)"
   ]
  },
  {
   "cell_type": "markdown",
   "metadata": {},
   "source": [
    "For both Ground Truth, the keyword with the highest correlation is *'gluten'*, and other words that seems to have an higher correlations respect to others are *'cholesterol', 'pee', 'hypertension'.\n",
    "\n",
    "An other important observation is that for the most of the keywords, the year that shows the higher correlation is 2016.\n"
   ]
  },
  {
   "cell_type": "markdown",
   "metadata": {},
   "source": [
    "# 1.2\n",
    "### Download US state-level data on income and poverty from the US Census Bureau. The data is available at: https://www.census.gov/data/tables/2017/demo/income-poverty/p60-259.html Study the correlation of your target ground truth feature with income/poverty features."
   ]
  },
  {
   "cell_type": "markdown",
   "metadata": {},
   "source": [
    "Given that we have the mean for 3 intervals of time about the poverty index, we have to build the mean of the age_adj and crude for that 3 intervals of time(2014-2016, 2013-2014, 2015, 2016) in order to have a fair correlation coefficient."
   ]
  },
  {
   "cell_type": "code",
   "execution_count": 10,
   "metadata": {},
   "outputs": [],
   "source": [
    "ground_truth = lib.ground_truth_data_preparation(age_adj, crude)"
   ]
  },
  {
   "cell_type": "code",
   "execution_count": 11,
   "metadata": {},
   "outputs": [],
   "source": [
    "census_corr = lib.census_correlation(ground_truth, US_census)"
   ]
  },
  {
   "cell_type": "markdown",
   "metadata": {
    "collapsed": true
   },
   "source": [
    "US Census Bureau data show a higher correlation coefficient respect to the one of the Google trend, for all of the time intervals."
   ]
  }
 ],
 "metadata": {
  "kernelspec": {
   "display_name": "Python [Root]",
   "language": "python",
   "name": "Python [Root]"
  },
  "language_info": {
   "codemirror_mode": {
    "name": "ipython",
    "version": 3
   },
   "file_extension": ".py",
   "mimetype": "text/x-python",
   "name": "python",
   "nbconvert_exporter": "python",
   "pygments_lexer": "ipython3",
   "version": "3.5.3"
  }
 },
 "nbformat": 4,
 "nbformat_minor": 2
}
